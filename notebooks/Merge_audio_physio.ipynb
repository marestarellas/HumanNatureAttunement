{
 "cells": [
  {
   "cell_type": "code",
   "execution_count": 24,
   "id": "64044f61",
   "metadata": {},
   "outputs": [],
   "source": [
    "import pandas as pd\n",
    "import numpy as np\n",
    "\n",
    "def append_audio_to_annotated(annot_path, audio_path, out_path=None, fs=256):\n",
    "    \"\"\"\n",
    "    Appends audio envelope columns to the existing merged_annotated dataframe.\n",
    "    Keeps all original columns, trims audio to match respiration length.\n",
    "    \"\"\"\n",
    "    # --- Load annotated dataframe (full physio/eeg merge) ---\n",
    "    df_annot = pd.read_csv(annot_path)\n",
    "\n",
    "    # Add time column if missing\n",
    "    if \"time_s\" not in df_annot.columns:\n",
    "        df_annot[\"time_s\"] = np.arange(len(df_annot)) / fs\n",
    "\n",
    "    # --- Load audio envelope dataframe ---\n",
    "    df_audio = pd.read_csv(audio_path)\n",
    "\n",
    "    # Trim audio to length of annotated data\n",
    "    t_max = df_annot[\"time_s\"].iloc[-1]\n",
    "    df_audio_trim = df_audio[df_audio[\"time_s\"] <= t_max].copy()\n",
    "\n",
    "    # --- Merge by nearest time ---\n",
    "    df_out = pd.merge_asof(\n",
    "        df_annot.sort_values(\"time_s\"),\n",
    "        df_audio_trim.sort_values(\"time_s\"),\n",
    "        on=\"time_s\",\n",
    "        direction=\"nearest\"\n",
    "    )\n",
    "\n",
    "    # Save if requested\n",
    "    if out_path:\n",
    "        df_out.to_csv(out_path, index=False)\n",
    "        print(f\"[OK] Saved annotated + audio → {out_path}\")\n",
    "\n",
    "    return df_out\n"
   ]
  },
  {
   "cell_type": "code",
   "execution_count": 27,
   "id": "110794f8",
   "metadata": {},
   "outputs": [
    {
     "name": "stderr",
     "output_type": "stream",
     "text": [
      "C:\\Users\\andre\\AppData\\Local\\Temp\\ipykernel_37908\\3792783424.py:10: DtypeWarning: Columns (40) have mixed types. Specify dtype option on import or set low_memory=False.\n",
      "  df_annot = pd.read_csv(annot_path)\n"
     ]
    },
    {
     "name": "stdout",
     "output_type": "stream",
     "text": [
      "[OK] Saved annotated + audio → ./data/processed/sub-02/tables/merged_annotated_with_audio.csv\n",
      "Index(['ecg', 'respiration', 'physio_triggers', 'condition_triggers',\n",
      "       'sequence', 'battery', 'flags', 'EEG-ch1', 'EEG-ch2', 'EEG-ch3',\n",
      "       'EEG-ch4', 'EEG-ch5', 'EEG-ch6', 'EEG-ch7', 'EEG-ch8', 'EEG-ch9',\n",
      "       'EEG-ch10', 'EEG-ch11', 'EEG-ch12', 'EEG-ch13', 'EEG-ch14', 'EEG-ch15',\n",
      "       'EEG-ch16', 'EEG-ch17', 'EEG-ch18', 'EEG-ch19', 'EEG-ch20', 'EEG-ch21',\n",
      "       'EEG-ch22', 'EEG-ch23', 'EEG-ch24', 'EEG-ch25', 'EEG-ch26', 'EEG-ch27',\n",
      "       'EEG-ch28', 'EEG-ch29', 'EEG-ch30', 'EEG-ch31', 'EEG-ch32',\n",
      "       'eeg_triggers', 'condition_names', 'time_s', 'env_broad',\n",
      "       'env_swell_0p3hz', 'env_swell_0p1hz', 'env_mid_1_5hz'],\n",
      "      dtype='object')\n",
      "           ecg   respiration  physio_triggers  condition_triggers  sequence  \\\n",
      "0 -2752.846564  52500.224304              0.0         2072.413184     18144   \n",
      "1 -2856.556719  52066.183090              0.0         1965.702278     18144   \n",
      "2 -2850.081415  52077.127934              0.0         1961.385409     18144   \n",
      "3 -2852.976876  52087.760067              0.0         1963.543844     18144   \n",
      "4 -2871.244604  52080.255032              0.0         1960.806317     18144   \n",
      "\n",
      "   battery  flags       EEG-ch1       EEG-ch2       EEG-ch3  ...  \\\n",
      "0        4      0  85338.713549  72621.547873  69284.216324  ...   \n",
      "1        4      0  85321.435420  72640.419971  69279.750779  ...   \n",
      "2        4      0  85336.608538  72637.426718  69278.229817  ...   \n",
      "3        4      0  85344.493205  72657.272231  69270.868361  ...   \n",
      "4        4      0  85401.182505  72635.552892  69282.963051  ...   \n",
      "\n",
      "       EEG-ch30      EEG-ch31       EEG-ch32  eeg_triggers  condition_names  \\\n",
      "0  79605.331310  78603.516159  102070.026743           0.0       AUDIO_SYNC   \n",
      "1  79750.783957  78734.014708  102070.026743           0.0                0   \n",
      "2  79711.153769  78684.723368  102070.026743           0.0                0   \n",
      "3  79598.979772  78595.850510  102070.026743           0.0                0   \n",
      "4  79736.219224  78723.586992  102070.026743           0.0                0   \n",
      "\n",
      "     time_s  env_broad  env_swell_0p3hz  env_swell_0p1hz  env_mid_1_5hz  \n",
      "0  0.000000        NaN         0.000000              NaN       0.662266  \n",
      "1  0.003906        NaN         0.010852              NaN       0.573408  \n",
      "2  0.007812        NaN         0.021063              NaN       0.619838  \n",
      "3  0.011719        NaN         0.030703              NaN       0.676831  \n",
      "4  0.015625        NaN         0.039832              NaN       0.705945  \n",
      "\n",
      "[5 rows x 46 columns]\n"
     ]
    }
   ],
   "source": [
    "annot_path = \"./data/processed/sub-02/tables/merged_annotated_cut.csv\"\n",
    "audio_path = \"./data/processed/sub-02/audio/sea_envelopes_curves.csv\"\n",
    "out_path   = \"./data/processed/sub-02/tables/merged_annotated_with_audio.csv\"\n",
    "\n",
    "df_full = append_audio_to_annotated(annot_path, audio_path, out_path=out_path, fs=256)\n",
    "\n",
    "print(df_full.columns)\n",
    "print(df_full.head())\n"
   ]
  },
  {
   "cell_type": "code",
   "execution_count": null,
   "id": "b74cd202",
   "metadata": {},
   "outputs": [],
   "source": []
  }
 ],
 "metadata": {
  "kernelspec": {
   "display_name": "base",
   "language": "python",
   "name": "python3"
  },
  "language_info": {
   "codemirror_mode": {
    "name": "ipython",
    "version": 3
   },
   "file_extension": ".py",
   "mimetype": "text/x-python",
   "name": "python",
   "nbconvert_exporter": "python",
   "pygments_lexer": "ipython3",
   "version": "3.12.10"
  }
 },
 "nbformat": 4,
 "nbformat_minor": 5
}
