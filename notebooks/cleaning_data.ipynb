{
 "cells": [
  {
   "cell_type": "code",
   "execution_count": 2,
   "id": "675ca4e4",
   "metadata": {},
   "outputs": [
    {
     "name": "stdout",
     "output_type": "stream",
     "text": [
      "File not found: ../data\\sub-02\\eeg.csv\n",
      "File not found: ../data\\sub-02\\physio.csv\n"
     ]
    }
   ],
   "source": [
    "import os\n",
    "import pandas as pd\n",
    "import soundfile as sf  # pip install soundfile\n",
    "\n",
    "def load_data(subject, modality, data_dir='../data'):\n",
    "    \"\"\"\n",
    "    Load modality data for a given subject.\n",
    "    \n",
    "    Parameters\n",
    "    ----------\n",
    "    subject : str or int\n",
    "        Subject identifier (e.g., '02', 2, 'sub-02')\n",
    "    modality : str\n",
    "        One of 'eeg', 'physio', or 'audio'\n",
    "    data_dir : str\n",
    "        Path to the data root directory\n",
    "        \n",
    "    Returns\n",
    "    -------\n",
    "    data : pandas.DataFrame or tuple or None\n",
    "        - For 'eeg' or 'physio': pandas DataFrame\n",
    "        - For 'audio': (audio_array, sample_rate)\n",
    "        - Returns None if file not found\n",
    "    \"\"\"\n",
    "    # Format subject folder name\n",
    "    if str(subject).startswith('sub-'):\n",
    "        subj_folder = str(subject)\n",
    "    else:\n",
    "        subj_folder = f'sub-{int(subject):02d}'\n",
    "    folder = os.path.join(data_dir, subj_folder)\n",
    "    \n",
    "    # File names (adapt as needed)\n",
    "    if modality in ['eeg', 'physio']:\n",
    "        fname = f\"{modality}.csv\"\n",
    "        path = os.path.join(folder, fname)\n",
    "        if os.path.exists(path):\n",
    "            return pd.read_csv(path)\n",
    "        else:\n",
    "            print(f\"File not found: {path}\")\n",
    "            return None\n",
    "    elif modality == 'audio':\n",
    "        # Search for any .wav file in the folder\n",
    "        for file in os.listdir(folder):\n",
    "            if file.endswith('.wav'):\n",
    "                path = os.path.join(folder, file)\n",
    "                audio, sr = sf.read(path)\n",
    "                return audio, sr\n",
    "        print(f\"No audio (.wav) file found in {folder}\")\n",
    "        return None\n",
    "    else:\n",
    "        raise ValueError(\"modality must be 'eeg', 'physio', or 'audio'\")\n",
    "\n",
    "# Example usage:\n",
    "df_eeg = load_data('02', 'eeg')\n",
    "df_physio = load_data('02', 'physio')\n",
    "# audio, sr = load_data(4, 'audio')\n"
   ]
  }
 ],
 "metadata": {
  "kernelspec": {
   "display_name": "adalog",
   "language": "python",
   "name": "python3"
  },
  "language_info": {
   "codemirror_mode": {
    "name": "ipython",
    "version": 3
   },
   "file_extension": ".py",
   "mimetype": "text/x-python",
   "name": "python",
   "nbconvert_exporter": "python",
   "pygments_lexer": "ipython3",
   "version": "3.12.9"
  }
 },
 "nbformat": 4,
 "nbformat_minor": 5
}
